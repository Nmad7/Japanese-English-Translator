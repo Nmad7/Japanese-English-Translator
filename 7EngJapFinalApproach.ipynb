{
  "nbformat": 4,
  "nbformat_minor": 0,
  "metadata": {
    "colab": {
      "name": "7EngJapFinalApproach.ipynb",
      "provenance": [],
      "collapsed_sections": [],
      "machine_shape": "hm"
    },
    "kernelspec": {
      "name": "python3",
      "display_name": "Python 3"
    },
    "accelerator": "GPU"
  },
  "cells": [
    {
      "cell_type": "code",
      "metadata": {
        "id": "c2ch9WfT1Fi6",
        "colab_type": "code",
        "colab": {
          "base_uri": "https://localhost:8080/",
          "height": 139
        },
        "outputId": "56351b78-041b-451a-b3b4-febbc2f0de02"
      },
      "source": [
        "import os\n",
        "import sys, subprocess\n",
        "import tensorflow.keras\n",
        "from keras.utils import to_categorical\n",
        "from tensorflow.keras.models import Model, load_model, Sequential\n",
        "from tensorflow.keras.layers import Dense, LSTM, Embedding, Dropout, Input, Activation, Concatenate, TimeDistributed, RepeatVector, Bidirectional, GRU\n",
        "from tensorflow.keras.preprocessing.text import Tokenizer\n",
        "from tensorflow.keras.callbacks import ModelCheckpoint\n",
        "from tensorflow.keras.preprocessing.sequence import pad_sequences\n",
        "from tensorflow.keras import optimizers\n",
        "from sklearn.model_selection import train_test_split\n",
        "import re\n",
        "import pandas as pd\n",
        "import numpy as np\n",
        "import matplotlib.pyplot as plt\n",
        "import unicodedata\n",
        "import gc\n",
        "import pickle\n",
        "!pip install nagisa\n",
        "import nagisa\n",
        "\n",
        "IN_COLAB = \"google.colab\" in sys.modules\n",
        "if IN_COLAB:\n",
        "    from google.colab import drive\n",
        "    drive.mount('/content/drive')\n",
        "    !ln -s \"/content/drive/My Drive/Projects/\" /Projects"
      ],
      "execution_count": null,
      "outputs": [
        {
          "output_type": "stream",
          "text": [
            "Requirement already satisfied: nagisa in /usr/local/lib/python3.6/dist-packages (0.2.7)\n",
            "Requirement already satisfied: six in /usr/local/lib/python3.6/dist-packages (from nagisa) (1.12.0)\n",
            "Requirement already satisfied: numpy in /usr/local/lib/python3.6/dist-packages (from nagisa) (1.18.5)\n",
            "Requirement already satisfied: DyNet in /usr/local/lib/python3.6/dist-packages (from nagisa) (2.1)\n",
            "Requirement already satisfied: cython in /usr/local/lib/python3.6/dist-packages (from DyNet->nagisa) (0.29.21)\n",
            "Drive already mounted at /content/drive; to attempt to forcibly remount, call drive.mount(\"/content/drive\", force_remount=True).\n",
            "ln: failed to create symbolic link '/Projects/Projects': Operation not supported\n"
          ],
          "name": "stdout"
        }
      ]
    },
    {
      "cell_type": "markdown",
      "metadata": {
        "id": "DJhxo5W11y98",
        "colab_type": "text"
      },
      "source": [
        "Load and clean text"
      ]
    },
    {
      "cell_type": "code",
      "metadata": {
        "id": "aBCqNuY1116U",
        "colab_type": "code",
        "colab": {
          "base_uri": "https://localhost:8080/",
          "height": 572
        },
        "outputId": "081e5596-d4e6-4634-ec26-a94d87363109"
      },
      "source": [
        "# start with the first 90873\n",
        "num_example = 90873\n",
        "\n",
        "# create each languages list\n",
        "def create_lang_list(num_example):\n",
        "    # load txt file\n",
        "    with open('/Projects/combo2.txt', 'r', encoding='UTF-8') as f:\n",
        "      # get each phrase in both languages\n",
        "      lines = f.read().strip().split('\\n')\n",
        "      # seperate the phrase in both langauges\n",
        "      word_pairs = [[phrase for phrase in line.split('\\t')]  for line in lines[:num_example]]\n",
        "      return zip(*word_pairs)\n",
        "\n",
        "\n",
        "en, ja = create_lang_list(num_example)\n",
        "\n",
        "ja_sentence = list()\n",
        "# remove random spaces from the japanese text\n",
        "for i in ja:\n",
        "    ja_sentence.append(i.replace(\" \", \"\"))\n",
        "\n",
        "# space Japanese text\n",
        "ja_text = list()\n",
        "for text in ja_sentence:\n",
        "    words = nagisa.tagging(text)\n",
        "    ja_text.append(\" \".join(words.words).strip())\n",
        "\n",
        "# Remove accented characters\n",
        "def english_unicode_to_ascii(text):\n",
        "     return ''.join(ascii_text for ascii_text in unicodedata.normalize('NFKD', text).encode('ascii', 'ignore').decode('utf-8', 'ignore'))\n",
        "\n",
        "def japanese_unicode_to_ascii(text):\n",
        "    return ''.join(ascii_text for ascii_text in unicodedata.normalize('NFKD', text))\n",
        "\n",
        "def replace_special_character_to_space_en(text):\n",
        "    # replaces multiple special char in a row with just one\n",
        "    text = re.sub(r\"([?.!,¿])\", r\" \\1 \", text)\n",
        "    # replaces multiple spaces in row with just one\n",
        "    text = re.sub(r'[\" \"]+', \" \", text)\n",
        "    # replaces special char with space\n",
        "    # text = re.sub(r\"[^a-zA-Z?.!,']+\", \" \", text)\n",
        "    text = text.lower()\n",
        "    text = text.strip()\n",
        "    return text\n",
        "  \n",
        "def replace_special_character_to_space(text):\n",
        "    # replaces multiple special char in a row with just one\n",
        "    text = re.sub(r\"([?!。、¿])\", r\" \\1\", text)\n",
        "    # list of special japanese characters\n",
        "    pattern = r\"[^\\u3041-\\u309F\\u30A1-\\u30FF\\uFF66-\\uFF9F\\u4E00-\\u9FD0\\u309B\\u3099\\uFF9E\\u309C\\u309A\\uFF9F?!\\s、。.,0-9]+\"\n",
        "    # remove special characters\n",
        "    text = re.sub(pattern, '', text).rstrip().strip()\n",
        "    # remove mulitple spaces\n",
        "    text = re.sub(r'[\" \"]+', \" \", text)\n",
        "    text = text.replace(\"・\" , \"\")\n",
        "    text = text.lower()\n",
        "    return text\n",
        "\n",
        "def normalize(english_text, japanese_text):\n",
        "    \n",
        "    input_value = []\n",
        "    target_value = []\n",
        "    \n",
        "    for en_text, ja_text in zip(english_text, japanese_text):\n",
        "        \n",
        "        # normalize English\n",
        "        en_text = english_unicode_to_ascii(en_text)\n",
        "        en_text = replace_special_character_to_space_en(en_text)\n",
        "        en_text = \"startl \" + en_text + \" endl\"\n",
        "        target_value.append(en_text)\n",
        "\n",
        "        # normalize Japanese\n",
        "        ja_text = japanese_unicode_to_ascii(ja_text)\n",
        "        ja_text = replace_special_character_to_space(ja_text)\n",
        "\n",
        "        # add start and end sentence for lstm\n",
        "        # ja_text = \"startl \" + ja_text + \" endl\"\n",
        "        \n",
        "        input_value.append(ja_text)\n",
        "\n",
        "    return input_value, target_value\n",
        "\n",
        "# get normalize text data\n",
        "input_value, target_value = normalize(en, ja_text)\n",
        "\n",
        "# convert to Series\n",
        "x = pd.Series(input_value) \n",
        "y = pd.Series(target_value)\n",
        "\n",
        "X_train, X_test, \\\n",
        "    Y_train, Y_test = train_test_split(x, y, test_size=0.2, shuffle=True)\n",
        "\n",
        "print(pd.DataFrame({\"input\": X_train, \"target\": Y_train}).head(15))"
      ],
      "execution_count": null,
      "outputs": [
        {
          "output_type": "stream",
          "text": [
            "       input              target\n",
            "0       行け 。    startl go . endl\n",
            "1   行き なさい 。    startl go . endl\n",
            "2    こんにちは 。    startl hi . endl\n",
            "3     もしもし 。    startl hi . endl\n",
            "4    やっ ほー 。    startl hi . endl\n",
            "5    こんにちは !    startl hi . endl\n",
            "6       走れ 。   startl run . endl\n",
            "7     走っ て !   startl run . endl\n",
            "8        誰 ?   startl who ? endl\n",
            "9     すごい !   startl wow ! endl\n",
            "10      ワォ !   startl wow ! endl\n",
            "11      わぉ !   startl wow ! endl\n",
            "12      おー !   startl wow ! endl\n",
            "13   火事 だ !  startl fire ! endl\n",
            "14      火事 !  startl fire ! endl\n",
            "                                 input                                             target\n",
            "18680            食物 は 生きる ため に 必要 だ 。            startl food is essential to life . endl\n",
            "29020      彼 は 彼女 に 自分 の 計画 を 知ら せ た 。      startl he acquainted her with his plan . endl\n",
            "86442  あなた に 私 の 家族 の 写真 を 送る つもり だ 。  startl i am sending you a picture of my family...\n",
            "16694                   これ 使っ て も いい ?             startl am i allowed to use this ? endl\n",
            "49655                   生き て て よかっ た !                         startl this is life ! endl\n",
            "75637      その 質問 は いまだ に 頭 から 離れ ない 。        startl that question still sticks me . endl\n",
            "88410            この 辞書 は 私 の 姉 の です 。       startl this dictionary is my sister's . endl\n",
            "3520                         冗談 だ よ 。                       startl this is a joke . endl\n",
            "26165              私 も 同じ こと 考え て た 。        startl i was thinking the same thing . endl\n",
            "67981     2人 の 子供 が 通り で 遊ん で い た 。  startl there were two children playing on the ...\n",
            "61145                  ああ 、 今 思い出し た 。             startl well , i just remembered . endl\n",
            "50786               この 薬 は 僕 に 合わ ない 。  startl this medicine does not agree with me . ...\n",
            "26320     それ は 典型 的 な ゴシック 式 教会 です 。        startl it is a typical gothic church . endl\n",
            "38631         何 か 言い たい こと が あっ た の ?  startl was there something you wanted to say ?...\n",
            "68346           兄 は いつ か 帰っ て くる かしら 。  startl i wonder if my brother will ever come b...\n"
          ],
          "name": "stdout"
        }
      ]
    },
    {
      "cell_type": "code",
      "metadata": {
        "id": "DiPnc49n6GYk",
        "colab_type": "code",
        "colab": {
          "base_uri": "https://localhost:8080/",
          "height": 281
        },
        "outputId": "066bab8a-874a-4ebc-baa8-d24b6f846926"
      },
      "source": [
        "# empty lists\n",
        "eng_len = []\n",
        "ja_len = []\n",
        "\n",
        "# populate the lists with sentence lengths\n",
        "for i in x:\n",
        "      ja_len.append(len(i.split()))\n",
        "\n",
        "for i in y:\n",
        "      eng_len.append(len(i.split()))\n",
        "\n",
        "length_df = pd.DataFrame({'eng':eng_len, 'ja':ja_len})\n",
        "\n",
        "length_df.hist(bins = 30)\n",
        "plt.show()"
      ],
      "execution_count": null,
      "outputs": [
        {
          "output_type": "display_data",
          "data": {
            "image/png": "[encoded data removed]",
            "text/plain": [
              "<Figure size 432x288 with 2 Axes>"
            ]
          },
          "metadata": {
            "tags": [],
            "needs_background": "light"
          }
        }
      ]
    },
    {
      "cell_type": "code",
      "metadata": {
        "id": "8VJP6pyF6_U1",
        "colab_type": "code",
        "colab": {
          "base_uri": "https://localhost:8080/",
          "height": 87
        },
        "outputId": "239223c0-8943-4d5c-8a6f-eb84617b534e"
      },
      "source": [
        "# function to build a tokenizer\n",
        "def tokenization(lines):\n",
        "      tokenizer = Tokenizer()\n",
        "      tokenizer.fit_on_texts(lines)\n",
        "      return tokenizer\n",
        "\n",
        "# prepare Japanese tokenizer\n",
        "ja_tokenizer = tokenization(x)\n",
        "with open('ja_tokenizer3.pickle', 'wb') as handle:\n",
        "    pickle.dump(ja_tokenizer, handle, protocol=pickle.HIGHEST_PROTOCOL)\n",
        "ja_vocab_size = len(ja_tokenizer.word_index) + 1\n",
        "\n",
        "ja_max_length = max(ja_len)\n",
        "print('Japanese max sentence length %d' % ja_max_length)\n",
        "print('Japanese Vocabulary Size: %d' % ja_vocab_size)\n",
        "\n",
        "# prepare English tokenizer\n",
        "eng_tokenizer = tokenization(y)\n",
        "with open('eng_tokenizer3..pickle', 'wb') as handle:\n",
        "    pickle.dump(eng_tokenizer, handle, protocol=pickle.HIGHEST_PROTOCOL)\n",
        "eng_vocab_size = len(eng_tokenizer.word_index) + 1\n",
        "\n",
        "eng_max_length = max(eng_len)\n",
        "print('English max sentence length: %d' % eng_max_length)\n",
        "print('English Vocabulary Size: %d' % eng_vocab_size)"
      ],
      "execution_count": null,
      "outputs": [
        {
          "output_type": "stream",
          "text": [
            "Japanese max sentence length 22\n",
            "Japanese Vocabulary Size: 14893\n",
            "English max sentence length: 17\n",
            "English Vocabulary Size: 9702\n"
          ],
          "name": "stdout"
        }
      ]
    },
    {
      "cell_type": "code",
      "metadata": {
        "id": "FGVAwhEQ9bVT",
        "colab_type": "code",
        "colab": {
          "base_uri": "https://localhost:8080/",
          "height": 139
        },
        "outputId": "84e203c6-bda7-4554-89ce-785692cf471a"
      },
      "source": [
        "# encode and pad sequences\n",
        "def encode_sequences(tokenizer, length, lines):\n",
        "         # integer encode sequences\n",
        "         seq = tokenizer.texts_to_sequences(lines)\n",
        "         # pad sequences with 0 values\n",
        "         seq = pad_sequences(seq, maxlen=length, padding='post')\n",
        "         return seq\n",
        "\n",
        "# prepare training data\n",
        "trainX = encode_sequences(ja_tokenizer, ja_max_length, X_train)\n",
        "trainY = encode_sequences(eng_tokenizer, eng_max_length, Y_train)\n",
        "\n",
        "# prepare validation data\n",
        "testX = encode_sequences(ja_tokenizer, ja_max_length, X_test)\n",
        "testY = encode_sequences(eng_tokenizer, eng_max_length, Y_test)\n",
        "\n",
        "trainX"
      ],
      "execution_count": null,
      "outputs": [
        {
          "output_type": "execute_result",
          "data": {
            "text/plain": [
              "array([[2166,    2, 1459, ...,    0,    0,    0],\n",
              "       [   9,    2,   19, ...,    0,    0,    0],\n",
              "       [  33,    3,   10, ...,    0,    0,    0],\n",
              "       ...,\n",
              "       [  10,    6, 1629, ...,    0,    0,    0],\n",
              "       [  19,    2,   36, ...,    0,    0,    0],\n",
              "       [2568,    5,   82, ...,    0,    0,    0]], dtype=int32)"
            ]
          },
          "metadata": {
            "tags": []
          },
          "execution_count": 111
        }
      ]
    },
    {
      "cell_type": "code",
      "metadata": {
        "id": "YOw4rMORg0c7",
        "colab_type": "code",
        "colab": {
          "base_uri": "https://localhost:8080/",
          "height": 329
        },
        "outputId": "86fc6a23-4528-4243-cbe5-34a8c7b8458e"
      },
      "source": [
        "def convert(lang, tensor):\n",
        "  for t in tensor:\n",
        "    if t!=0:\n",
        "      print (\"%d ----> %s\" % (t, lang.index_word[t]))\n",
        "\n",
        "print (\"Input Language; index to word mapping\")\n",
        "convert(ja_tokenizer, trainX[0])\n",
        "print ()\n",
        "print (\"Target Language; index to word mapping\")\n",
        "convert(eng_tokenizer, trainY[0])"
      ],
      "execution_count": null,
      "outputs": [
        {
          "output_type": "stream",
          "text": [
            "Input Language; index to word mapping\n",
            "2166 ----> 食物\n",
            "2 ----> は\n",
            "1459 ----> 生きる\n",
            "154 ----> ため\n",
            "3 ----> に\n",
            "143 ----> 必要\n",
            "16 ----> だ\n",
            "1 ----> 。\n",
            "\n",
            "Target Language; index to word mapping\n",
            "1 ----> startl\n",
            "350 ----> food\n",
            "7 ----> is\n",
            "2990 ----> essential\n",
            "5 ----> to\n",
            "210 ----> life\n",
            "2 ----> endl\n"
          ],
          "name": "stdout"
        }
      ]
    },
    {
      "cell_type": "code",
      "metadata": {
        "id": "gFxGg8Hc-u9O",
        "colab_type": "code",
        "colab": {}
      },
      "source": [
        "# build NMT model\n",
        "def define_model(in_vocab,out_vocab, in_timesteps,out_timesteps,units):\n",
        "      model = Sequential()\n",
        "      model.add(Embedding(in_vocab, units, input_length=in_timesteps, mask_zero=True))\n",
        "      # model.add(Bidirectional(LSTM(512,return_sequences=False, dropout=.2)))\n",
        "      model.add(Bidirectional(GRU(1024,return_sequences=False)))\n",
        "      model.add(RepeatVector(out_timesteps))\n",
        "      # model.add(Bidirectional(LSTM(512,return_sequences=True, dropout=.2)))\n",
        "      model.add(Bidirectional(GRU(1024,return_sequences=True)))\n",
        "      model.add(TimeDistributed(Dense(out_vocab,activation='softmax')))\n",
        "      return model\n",
        "\n",
        "# model compilation\n",
        "model = define_model(ja_vocab_size, eng_vocab_size, ja_max_length, eng_max_length, 1024)\n",
        "learning_rate = 0.002\n",
        "model.compile(loss = 'sparse_categorical_crossentropy', \n",
        "                 optimizer = optimizers.Adam(learning_rate), \n",
        "                 metrics = ['accuracy'])\n",
        "\n",
        "filename = '/content/sample_data/cp_finalApproach-{epoch:02d}.hdf5'\n",
        "checkpoint = ModelCheckpoint(filename, monitor='val_loss', verbose=1, save_best_only=True, mode='min')\n"
      ],
      "execution_count": null,
      "outputs": []
    },
    {
      "cell_type": "code",
      "metadata": {
        "id": "n3p6UzYhXXXa",
        "colab_type": "code",
        "colab": {
          "base_uri": "https://localhost:8080/",
          "height": 676
        },
        "outputId": "a4ad1d8c-6b7a-417b-f0b3-ee1e6ae74f62"
      },
      "source": [
        "# train model\n",
        "history = model.fit(trainX, trainY.reshape(trainY.shape[0], trainY.shape[1], 1),\n",
        "                    epochs=20, batch_size=128, validation_split = 0.2,callbacks=[checkpoint], \n",
        "                    verbose=1)\n",
        "\n",
        "plt.plot(history.history['loss'])\n",
        "plt.plot(history.history['val_loss'])\n",
        "plt.legend(['train','validation'])\n",
        "plt.show()"
      ],
      "execution_count": null,
      "outputs": [
        {
          "output_type": "stream",
          "text": [
            "Epoch 1/20\n",
            "455/455 [==============================] - ETA: 0s - loss: 2.4283 - accuracy: 0.6293\n",
            "Epoch 00001: val_loss improved from inf to 2.10537, saving model to /content/sample_data/cp_finalApproach-01.hdf5\n",
            "455/455 [==============================] - 116s 256ms/step - loss: 2.4283 - accuracy: 0.6293 - val_loss: 2.1054 - val_accuracy: 0.6507\n",
            "Epoch 2/20\n",
            "455/455 [==============================] - ETA: 0s - loss: 1.9066 - accuracy: 0.6622\n",
            "Epoch 00002: val_loss improved from 2.10537 to 1.78488, saving model to /content/sample_data/cp_finalApproach-02.hdf5\n",
            "455/455 [==============================] - 114s 251ms/step - loss: 1.9066 - accuracy: 0.6622 - val_loss: 1.7849 - val_accuracy: 0.6725\n",
            "Epoch 3/20\n",
            "455/455 [==============================] - ETA: 0s - loss: 1.5816 - accuracy: 0.6855\n",
            "Epoch 00003: val_loss improved from 1.78488 to 1.59406, saving model to /content/sample_data/cp_finalApproach-03.hdf5\n",
            "455/455 [==============================] - 114s 251ms/step - loss: 1.5816 - accuracy: 0.6855 - val_loss: 1.5941 - val_accuracy: 0.6880\n",
            "Epoch 4/20\n",
            "455/455 [==============================] - ETA: 0s - loss: 1.3547 - accuracy: 0.7059\n",
            "Epoch 00004: val_loss improved from 1.59406 to 1.52613, saving model to /content/sample_data/cp_finalApproach-04.hdf5\n",
            "455/455 [==============================] - 114s 251ms/step - loss: 1.3547 - accuracy: 0.7059 - val_loss: 1.5261 - val_accuracy: 0.6938\n",
            "Epoch 5/20\n",
            "455/455 [==============================] - ETA: 0s - loss: 1.2034 - accuracy: 0.7213\n",
            "Epoch 00005: val_loss improved from 1.52613 to 1.48961, saving model to /content/sample_data/cp_finalApproach-05.hdf5\n",
            "455/455 [==============================] - 114s 250ms/step - loss: 1.2034 - accuracy: 0.7213 - val_loss: 1.4896 - val_accuracy: 0.6975\n",
            "Epoch 6/20\n",
            "455/455 [==============================] - ETA: 0s - loss: 1.0914 - accuracy: 0.7357\n",
            "Epoch 00006: val_loss improved from 1.48961 to 1.48935, saving model to /content/sample_data/cp_finalApproach-06.hdf5\n",
            "455/455 [==============================] - 114s 251ms/step - loss: 1.0914 - accuracy: 0.7357 - val_loss: 1.4894 - val_accuracy: 0.7023\n",
            "Epoch 7/20\n",
            "455/455 [==============================] - ETA: 0s - loss: 1.0104 - accuracy: 0.7472\n",
            "Epoch 00007: val_loss improved from 1.48935 to 1.48847, saving model to /content/sample_data/cp_finalApproach-07.hdf5\n",
            "455/455 [==============================] - 114s 251ms/step - loss: 1.0104 - accuracy: 0.7472 - val_loss: 1.4885 - val_accuracy: 0.7040\n",
            "Epoch 8/20\n",
            "455/455 [==============================] - ETA: 0s - loss: 0.9492 - accuracy: 0.7572\n",
            "Epoch 00008: val_loss did not improve from 1.48847\n",
            "455/455 [==============================] - 111s 244ms/step - loss: 0.9492 - accuracy: 0.7572 - val_loss: 1.5097 - val_accuracy: 0.7049\n",
            "Epoch 9/20\n",
            "455/455 [==============================] - ETA: 0s - loss: 0.8983 - accuracy: 0.7662\n",
            "Epoch 00009: val_loss did not improve from 1.48847\n",
            "455/455 [==============================] - 111s 244ms/step - loss: 0.8983 - accuracy: 0.7662 - val_loss: 1.5277 - val_accuracy: 0.7043\n",
            "Epoch 10/20\n",
            "117/455 [======>.......................] - ETA: 1:15 - loss: 0.8099 - accuracy: 0.7837"
          ],
          "name": "stdout"
        }
      ]
    },
    {
      "cell_type": "code",
      "metadata": {
        "id": "b-OSyqTdaLMR",
        "colab_type": "code",
        "colab": {}
      },
      "source": [
        "model = load_model('/content/sample_data/cp_finalApproach-14.hdf5')\n",
        "\n",
        "testX = testX[:100]\n",
        "\n",
        "#trainXsamp = trainX[:100]\n",
        "\n",
        "preds = model.predict_classes(testX.reshape((testX.shape[0],testX.shape[1])))\n",
        "\n",
        "def get_word(n, tokenizer):\n",
        "      for word, index in tokenizer.word_index.items():\n",
        "          if index == n:\n",
        "              return word\n",
        "      return None\n",
        "\n",
        "preds_text = []\n",
        "for i in preds:\n",
        "       temp = []\n",
        "       for j in range(len(i)):\n",
        "            t = get_word(i[j], eng_tokenizer)\n",
        "            if j > 0:\n",
        "                if (t == get_word(i[j-1], eng_tokenizer)) or (t == None):\n",
        "                     temp.append('')\n",
        "                else:\n",
        "                     temp.append(t)\n",
        "            else:\n",
        "                   if(t == None):\n",
        "                          temp.append('')\n",
        "                   else:\n",
        "                          temp.append(t) \n",
        "\n",
        "       preds_text.append(' '.join(temp))\n",
        "\n",
        "pred_df = pd.DataFrame({'actual' : Y_test[:100], 'predicted' : preds_text})\n",
        "pred_df.sample(10)\n"
      ],
      "execution_count": null,
      "outputs": []
    },
    {
      "cell_type": "code",
      "metadata": {
        "id": "9rtXQ2BmiDw6",
        "colab_type": "code",
        "colab": {}
      },
      "source": [
        "# text = \"あなたは誰ですか。\"\n",
        "text = \"あなたの背が高い\"\n",
        "# text = \"あなたの名前は何ですか。\"\n",
        "# text = \"彼ならできるでしょうが 。\"\n",
        "# text = \"日本料理が好きになった。\"\n",
        "\n",
        "spaced_text = \" \".join(word for word in nagisa.tagging(text).words)\n",
        "spaced_text = \"startl \" + spaced_text + \" endl\"\n",
        "spaced_text = ''.join(ascii_text for ascii_text in unicodedata.normalize('NFKD', spaced_text))\n",
        "\n",
        "seq_text = ja_tokenizer.texts_to_sequences([spaced_text])\n",
        "# pad sequences with 0 values\n",
        "seq_text = pad_sequences(seq_text, maxlen=40, padding='post')\n",
        "\n",
        "def convert(lang, tensor):\n",
        "  for t in tensor:\n",
        "    if t!=0:\n",
        "      print (\"%d ----> %s\" % (t, lang.index_word[t]))\n",
        "print (\"Input Language; index to word mapping\")\n",
        "convert(ja_tokenizer, seq_text[0])\n",
        "\n",
        "preds = model.predict_classes(seq_text)\n",
        "\n",
        "def get_word(n, tokenizer):\n",
        "      for word, index in tokenizer.word_index.items():\n",
        "          if index == n:\n",
        "              return word\n",
        "      return None\n",
        "\n",
        "preds_text = []\n",
        "for i in preds:\n",
        "       temp = []\n",
        "       for j in range(len(i)):\n",
        "            t = get_word(i[j], eng_tokenizer)\n",
        "            if j > 0:\n",
        "                if (t == get_word(i[j-1], eng_tokenizer)) or (t == None):\n",
        "                     temp.append('')\n",
        "                else:\n",
        "                     temp.append(t)\n",
        "            else:\n",
        "                   if(t == None):\n",
        "                          temp.append('')\n",
        "                   else:\n",
        "                          temp.append(t) \n",
        "\n",
        "       preds_text.append(' '.join(temp))\n",
        "\n",
        "print('actual: ' + text + ' predicted: ' + preds_text[0])"
      ],
      "execution_count": null,
      "outputs": []
    },
    {
      "cell_type": "markdown",
      "metadata": {
        "id": "uGqjSlgopJIf",
        "colab_type": "text"
      },
      "source": [
        "Data Sources:\n",
        "\n",
        "http://www.edrdg.org/wiki/index.php/Tanaka_Corpus\n",
        "http://www.manythings.org/anki/\n",
        "\n",
        "\n",
        "Sources:\n",
        "\n",
        "https://www.analyticsvidhya.com/blog/2019/01/neural-machine-translation-keras/\n",
        "\n",
        "https://medium.com/voice-tech-podcast/programming-a-machine-translator-ef87fe10606f\n",
        "\n",
        "https://nthu-datalab.github.io/ml/labs/13-1_Seq2Seq-Learning_Neural-Machine-Translation/13-1_Seq2Seq-Learning_Neural-Machine-Translation.html\n",
        "\n",
        "https://www.tensorflow.org/tutorials/text/nmt_with_attention\n",
        "\n",
        "https://towardsdatascience.com/implementing-neural-machine-translation-with-attention-using-tensorflow-fc9c6f26155f\n",
        "\n",
        "https://github.com/atsushii/Neural-Machine-Translation-Project\n",
        "\n"
      ]
    }
  ]
}